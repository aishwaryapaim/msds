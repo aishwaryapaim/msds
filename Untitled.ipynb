{
 "cells": [
  {
   "cell_type": "code",
   "execution_count": 1,
   "id": "95df32e6",
   "metadata": {},
   "outputs": [],
   "source": [
    "from selenium import webdriver\n",
    "import time\n",
    "from selenium.webdriver.common.by import By\n",
    "from selenium.webdriver.chrome.service import Service\n",
    "from io import StringIO\n",
    "from selenium.webdriver.common.keys import Keys\n",
    "import pandas as pd\n",
    "from datetime import datetime\n",
    "import os\n",
    "import numpy as np\n",
    "import re\n",
    "import requests, PyPDF2\n",
    "from io import BytesIO\n",
    "import pyap\n"
   ]
  },
  {
   "cell_type": "code",
   "execution_count": 42,
   "id": "5cca51a9",
   "metadata": {},
   "outputs": [
    {
     "name": "stdout",
     "output_type": "stream",
     "text": [
      "1\n",
      "Randob Labs\n",
      "28 West 36th Street, New York, NY 10018\n",
      "\n",
      "\n",
      "******END******\n",
      "2\n",
      "The Helman Group\n",
      "1621 Beacon Place, Oxnard, CA, 93033\n",
      " Vapors are heavier than air and can cause suffocation by reducing oxygen available for breathingSupplier Address The Helman Group 1621 Beacon Place, Oxnard, CA, 93033\n",
      "\n",
      "******END******\n",
      "3\n",
      "Unilever\n",
      " Supplier Address 80 Voice Road Carle Place New York 11514\n",
      "\n",
      "******END******\n",
      "4\n",
      "PLP Archived\n",
      "\n",
      "\n",
      "******END******\n",
      "5\n",
      "Xenna Corporation\n",
      " Supplier Address Xenna Corporation 33 Witherspoon St. Suite 200, Princeton, NJ, 08542\n",
      "\n",
      "******END******\n",
      "6\n",
      "Bausch & Lomb Americas Inc\n",
      "\n",
      " Bausch & Lomb 1400 North Goodman Street Rochester, NY 14609\n",
      "******END******\n",
      "7\n",
      "Wellmark International\n",
      " Address: 1501 E. Woodfield Rd., Suite 200-West, Schaumburg, IL 60173\n",
      "\n",
      "******END******\n",
      "8\n",
      "SOPUS Products\n",
      "\n",
      " SOPUS Products Spill Information:    (877) 242-7400 P.O. Box 4427 Health Information: (877) 504-9351 Houston, TX.  77210-4427 MSDS Assistance Number: (877) 276-7285\n",
      "******END******\n",
      "9\n",
      "Orange Glo International\n",
      "\n",
      " Orange Glo International PO Box 3998 Littleton, CO 80110 USA\n",
      "******END******\n",
      "10\n",
      "Orange Glo International\n",
      "\n",
      " Supplier: Orange Glo International PO Box 3998 Littleton, CO 80110 USA\n",
      "******END******\n",
      "11\n",
      "Orange Glo International\n",
      "\n",
      " Manufacturer,importer,supplierOrangeGloInternational POBox3998 Littleton,CO,USA, 80110\n",
      "******END******\n",
      "12\n",
      "Wellmark International\n",
      " Address: 1501 E. Woodfield Rd., Suite 200-West, Schaumburg, IL 60173\n",
      "\n",
      "******END******\n",
      "13\n",
      "Wellmark International\n",
      " Address: 1501 E. Woodfield Rd., Suite 200-West, Schaumburg, IL 60173\n",
      "\n",
      "******END******\n",
      "14\n",
      "Blue Rhino\n",
      " Name & Address: Blue Rhino Corporation 104 Cambridge Plaza Drive Winston Salem, NC  27104\n",
      "\n",
      "******END******\n",
      "15\n",
      "Gillette\n",
      "\n",
      " Gillette Environment Health and Safet y 37A Street Needham, MA  02492\n",
      "******END******\n",
      "16\n",
      "Pfizer Consumer Healthcare\n",
      "\n",
      " the ingredients (see Section 8). Pfizer Inc Pfizer Pharmaceuticals Group 235 East 42nd Street New York, New York 10017\n",
      "******END******\n",
      "17\n",
      "Farnam Companies, Inc.\n",
      "\n",
      " Company Name:Farnam Companies, Inc. 301 West Osborn Road Phoenix, AZ  85013\n",
      "******END******\n",
      "18\n",
      "list index out of range\n",
      "19\n",
      "Thermionics Corporation\n",
      "\n",
      " Thermionics C  o  r  p  o  r  a  t  i  o  n Material Safety Data Sheet Part Number / Trade Name:   TC – 23(ThermiPaq) General Information … Company's Name:  Thermionics Corporation   Company's Emerg Ph #:  217-529-4280 Company's Street:  1214 Bunn Ave., Ste 5   Company's Info Ph #:  217-529-4280 Company's City:  Springfield     Date MSDS Prepared:  25APR03 Company's State:  IL      Safety Data Review Date:  25APR08 Company's Country:  USA     MSDS Serial Number:  TC002 Company's Name:  Thermionics Corporation   Company's Emerg Ph #:  217-529-4280 Company's Street:  1214 Bunn Ave., Ste 5   Company's Info Ph #:  217-529-4280 Company's City:  Springfield     Date MSDS Prepared:  25APR03 Company's State:  IL      Safety Data Review Date:  25APR08 Company's Country:  USA     MSDS Serial Number:  TC002 Company's Zip Code:   62703    Company’s DUNS Number:  62-534-4502\n",
      "******END******\n"
     ]
    }
   ],
   "source": [
    "# create webdriver object\n",
    "ser = Service(\"D:/Docs/chromedriver.exe\")\n",
    "op = webdriver.ChromeOptions()\n",
    "prefs = {\"download.default_directory\" : \"D:\\\\delete\\\\Cosmetic Ingridient Database\"}\n",
    "op.add_experimental_option(\"prefs\",prefs)\n",
    "driver = webdriver.Chrome(service=ser, options=op)\n",
    "driver.maximize_window()  \n",
    "driver.get(\"http://msds.walmartstores.com/\")\n",
    "time.sleep(10)\n",
    "driver.find_element(by=By.XPATH, value='//*[@id=\"submitUPC\"]').click()\n",
    "time.sleep(10)\n",
    "window_before = driver.window_handles[0]\n",
    "for o in range(1,20):\n",
    "    try:\n",
    "        force_break_loop = False\n",
    "        print(o)\n",
    "        driver.switch_to.window(window_before)\n",
    "        pdf = driver.find_element(by=By.XPATH, value='//*[@id=\"resultsDiv\"]/div/div['+str(o)+']/h2/span')\n",
    "        title = pdf.text\n",
    "        spt = title.split('(')[1].replace(')','')\n",
    "        print(spt)\n",
    "        pdf.click()\n",
    "        time.sleep(10)\n",
    "        original_window = driver.current_window_handle\n",
    "\n",
    "        for window_handle in driver.window_handles:\n",
    "            if window_handle != original_window:\n",
    "                driver.switch_to.window(window_handle)\n",
    "                break\n",
    "        url = driver.current_url\n",
    "\n",
    "        li = []\n",
    "        response = requests.get(url)\n",
    "        my_raw_data = response.content\n",
    "\n",
    "        with BytesIO(my_raw_data) as data:\n",
    "            read_pdf = PyPDF2.PdfFileReader(data,strict=False)\n",
    "\n",
    "            for page in range(read_pdf.getNumPages()):\n",
    "                text = read_pdf.getPage(page).extractText()\n",
    "                li.append(text)\n",
    "        a = li[0].replace(\"\\n\",\"****\")\n",
    "        test_address = a\n",
    "        addresses = pyap.parse(test_address, country='US')\n",
    "        for address in addresses:\n",
    "                # shows found address\n",
    "                print(address)\n",
    "\n",
    "\n",
    "        words = a.split(\"****\")\n",
    "        words = [s.strip() for s in words]\n",
    "        words = [i for i in words if i]\n",
    "        i=0\n",
    "        j=0\n",
    "        add=''\n",
    "\n",
    "        for i in range(len(words)):\n",
    "            test_str = words[i].lower()\n",
    "            res = re.sub(r'[^\\w\\s]', '', test_str)\n",
    "            if 'address' in res:\n",
    "                for j in range(i,i+10):\n",
    "                    postal_code = re.match(\".*[0-9]{5}.*\", words[j])\n",
    "                    postal_code1 = re.match(\".*[0-9]{6}.*\", words[j])\n",
    "                    #print(words[j])\n",
    "                    #add.append(words[j])\n",
    "                    add=\" \".join([add,words[j]])\n",
    "                    if postal_code or postal_code1:\n",
    "                        force_break_loop = True\n",
    "                        break\n",
    "\n",
    "            if force_break_loop:\n",
    "                break\n",
    "\n",
    "        print(add)\n",
    "\n",
    "\n",
    "\n",
    "\n",
    "        i=0\n",
    "        j=0\n",
    "        add=''\n",
    "        for i in range(len(words)):\n",
    "            test_str = words[i].lower()\n",
    "            res = re.sub(r'[^\\w\\s]', '', test_str)\n",
    "\n",
    "            if spt.split(\" \")[0].lower() in res:        \n",
    "\n",
    "                for j in range(i,i+10):\n",
    "                    postal_code = re.match(\".*[0-9]{5}.*\", words[j])\n",
    "                    postal_code1 = re.match(\".*[0-9]{6}.*\", words[j])\n",
    "\n",
    "                    #print(words[j])\n",
    "                    #add.append(words[j])\n",
    "                    add=\" \".join([add,words[j]])\n",
    "                    if postal_code or postal_code1:\n",
    "                        force_break_loop = True\n",
    "                        break\n",
    "            if force_break_loop:\n",
    "                break\n",
    "\n",
    "\n",
    "        print(add)\n",
    "        print(\"******END******\")\n",
    "        driver.close()\n",
    "    \n",
    "    except Exception as e:\n",
    "        print(e)\n",
    "        "
   ]
  },
  {
   "cell_type": "code",
   "execution_count": null,
   "id": "f026ca72",
   "metadata": {},
   "outputs": [],
   "source": []
  },
  {
   "cell_type": "code",
   "execution_count": null,
   "id": "8169d435",
   "metadata": {},
   "outputs": [],
   "source": []
  },
  {
   "cell_type": "code",
   "execution_count": null,
   "id": "b7c4de0d",
   "metadata": {},
   "outputs": [],
   "source": []
  },
  {
   "cell_type": "code",
   "execution_count": null,
   "id": "3dd0ed09",
   "metadata": {},
   "outputs": [],
   "source": []
  },
  {
   "cell_type": "code",
   "execution_count": null,
   "id": "0394fb1d",
   "metadata": {},
   "outputs": [],
   "source": []
  },
  {
   "cell_type": "code",
   "execution_count": null,
   "id": "c9836554",
   "metadata": {},
   "outputs": [],
   "source": []
  },
  {
   "cell_type": "code",
   "execution_count": null,
   "id": "f62c54d2",
   "metadata": {},
   "outputs": [],
   "source": [
    "//*[@id=\"resultsDiv\"]/div/div[16]/h2/span"
   ]
  },
  {
   "cell_type": "code",
   "execution_count": 15,
   "id": "046fc5bd",
   "metadata": {},
   "outputs": [
    {
     "name": "stdout",
     "output_type": "stream",
     "text": [
      "Farnam Companies, Inc.\n"
     ]
    }
   ],
   "source": [
    "ser = Service(\"D:/Docs/chromedriver.exe\")\n",
    "op = webdriver.ChromeOptions()\n",
    "prefs = {\"download.default_directory\" : \"D:\\\\delete\\\\Cosmetic Ingridient Database\"}\n",
    "op.add_experimental_option(\"prefs\",prefs)\n",
    "driver = webdriver.Chrome(service=ser, options=op)\n",
    "driver.maximize_window()  \n",
    "driver.get(\"http://msds.walmartstores.com/\")\n",
    "time.sleep(10)\n",
    "driver.find_element(by=By.XPATH, value='//*[@id=\"submitUPC\"]').click()\n",
    "time.sleep(10)\n",
    "window_before = driver.window_handles[0]\n",
    "driver.switch_to.window(window_before)\n",
    "pdf = driver.find_element(by=By.XPATH, value='//*[@id=\"resultsDiv\"]/div/div[17]/h2/span')\n",
    "title = pdf.text\n",
    "spt = title.split('(')[1].replace(')','')\n",
    "print(spt)\n",
    "pdf.click()\n",
    "time.sleep(10)\n",
    "original_window = driver.current_window_handle\n",
    "\n",
    "for window_handle in driver.window_handles:\n",
    "    if window_handle != original_window:\n",
    "        driver.switch_to.window(window_handle)\n",
    "        break\n",
    "url = driver.current_url"
   ]
  },
  {
   "cell_type": "code",
   "execution_count": 16,
   "id": "5fc01a4d",
   "metadata": {},
   "outputs": [
    {
     "data": {
      "text/plain": [
       "'http://msds.walmartstores.com/client/document?productid=1000578&productguid=5dba1d58-73d7-4cc3-adca-690a5f8141d9&DocumentKey=undefined&HazdocumentKey=undefined&MSDS=0&subformat=NAM'"
      ]
     },
     "execution_count": 16,
     "metadata": {},
     "output_type": "execute_result"
    }
   ],
   "source": [
    "url"
   ]
  },
  {
   "cell_type": "code",
   "execution_count": 17,
   "id": "700aa3ce",
   "metadata": {},
   "outputs": [
    {
     "name": "stdout",
     "output_type": "stream",
     "text": [
      "MSDS - Adams Spot-On Flea & Tick Control for Dogs Archiv... / (Farnam Companies, Inc.)\n"
     ]
    },
    {
     "data": {
      "text/plain": [
       "'Farnam Companies, Inc.'"
      ]
     },
     "execution_count": 17,
     "metadata": {},
     "output_type": "execute_result"
    }
   ],
   "source": [
    "print(title)\n",
    "spt = title.split('(')[1].replace(')','')\n",
    "spt"
   ]
  },
  {
   "cell_type": "code",
   "execution_count": 34,
   "id": "18c1a96b",
   "metadata": {},
   "outputs": [],
   "source": [
    "li = []\n",
    "response = requests.get(url)\n",
    "my_raw_data = response.content\n",
    "\n",
    "with BytesIO(my_raw_data) as data:\n",
    "    read_pdf = PyPDF2.PdfFileReader(data,strict=False)\n",
    "\n",
    "    for page in range(read_pdf.getNumPages()):\n",
    "        text = read_pdf.getPage(page).extractText()\n",
    "        li.append(text)"
   ]
  },
  {
   "cell_type": "code",
   "execution_count": null,
   "id": "1233d524",
   "metadata": {},
   "outputs": [],
   "source": [
    "b = li[0]\n",
    "b = b.replace(\"\\n\\n\\n\",\"\\n\")\n",
    "b"
   ]
  },
  {
   "cell_type": "code",
   "execution_count": 19,
   "id": "f4fd53a7",
   "metadata": {},
   "outputs": [],
   "source": [
    "a = li[0].replace(\"\\n\",\"****\")"
   ]
  },
  {
   "cell_type": "code",
   "execution_count": 20,
   "id": "693054a1",
   "metadata": {},
   "outputs": [],
   "source": [
    "test_address = a\n",
    "addresses = pyap.parse(test_address, country='US')\n",
    "for address in addresses:\n",
    "        # shows found address\n",
    "        print(address)\n"
   ]
  },
  {
   "cell_type": "code",
   "execution_count": 21,
   "id": "71341718",
   "metadata": {},
   "outputs": [
    {
     "name": "stdout",
     "output_type": "stream",
     "text": [
      "\n"
     ]
    }
   ],
   "source": [
    "words = a.split(\"****\")\n",
    "words = [s.strip() for s in words]\n",
    "words = [i for i in words if i]\n",
    "add = ''\n",
    "import re\n",
    "for i in range(len(words)):\n",
    "    test_str = words[i].lower()\n",
    "    res = re.sub(r'[^\\w\\s]', '', test_str)\n",
    "    if 'address' in res:\n",
    "        for j in range(i,i+10):\n",
    "            postal_code = re.match(\".*[0-9]{5}.*\", words[j])\n",
    "            postal_code1 = re.match(\".*[0-9]{6}.*\", words[j])\n",
    "            #print(words[j])\n",
    "            #add.append(words[j])\n",
    "            add=\" \".join([add,words[j]])\n",
    "            if postal_code or postal_code1:\n",
    "                break\n",
    "print(add)"
   ]
  },
  {
   "cell_type": "code",
   "execution_count": 22,
   "id": "0991b366",
   "metadata": {},
   "outputs": [],
   "source": [
    "import re\n",
    "for i in range(len(words)):\n",
    "    test_str = words[i].lower()\n",
    "    res = re.sub(r'[^\\w\\s]', '', test_str)\n",
    "\n",
    "    if 'address' in res:        \n",
    "        print(words[i+1])"
   ]
  },
  {
   "cell_type": "code",
   "execution_count": null,
   "id": "2bf0a376",
   "metadata": {},
   "outputs": [],
   "source": [
    "words"
   ]
  },
  {
   "cell_type": "code",
   "execution_count": 43,
   "id": "385b1a9f",
   "metadata": {},
   "outputs": [
    {
     "name": "stdout",
     "output_type": "stream",
     "text": [
      " Thermionics C  o  r  p  o  r  a  t  i  o  n Material Safety Data Sheet Part Number / Trade Name:   TC – 23(ThermiPaq) General Information … Company's Name:  Thermionics Corporation   Company's Emerg Ph #:  217-529-4280 Company's Street:  1214 Bunn Ave., Ste 5   Company's Info Ph #:  217-529-4280 Company's City:  Springfield     Date MSDS Prepared:  25APR03 Company's State:  IL      Safety Data Review Date:  25APR08 Company's Country:  USA     MSDS Serial Number:  TC002 Company's Name:  Thermionics Corporation   Company's Emerg Ph #:  217-529-4280 Company's Street:  1214 Bunn Ave., Ste 5   Company's Info Ph #:  217-529-4280 Company's City:  Springfield     Date MSDS Prepared:  25APR03 Company's State:  IL      Safety Data Review Date:  25APR08 Company's Country:  USA     MSDS Serial Number:  TC002 Company's Zip Code:   62703    Company’s DUNS Number:  62-534-4502\n"
     ]
    }
   ],
   "source": [
    "import re\n",
    "add = ''\n",
    "for i in range(len(words)):\n",
    "    test_str = words[i].lower()\n",
    "    res = re.sub(r'[^\\w\\s]', '', test_str)\n",
    "\n",
    "    if spt.split(\" \")[0].lower() in res:        \n",
    "        for j in range(i,i+10):\n",
    "            postal_code = re.match(\".*[0-9]{5}.*\", words[j])\n",
    "            postal_code1 = re.match(\".*[0-9]{6}.*\", words[j])\n",
    "            #print(words[j])\n",
    "            #add.append(words[j])\n",
    "            add=\" \".join([add,words[j]])\n",
    "            if postal_code or postal_code1:\n",
    "                break\n",
    "        \n",
    "                \n",
    "            \n",
    "print(add)"
   ]
  },
  {
   "cell_type": "code",
   "execution_count": null,
   "id": "3eeb996d",
   "metadata": {},
   "outputs": [],
   "source": [
    "spt.split(\" \")[0].lower()"
   ]
  },
  {
   "cell_type": "code",
   "execution_count": 25,
   "id": "bd6fbd61",
   "metadata": {},
   "outputs": [
    {
     "data": {
      "text/plain": [
       "<re.Match object; span=(0, 18), match='Phoenix, AZ  85013'>"
      ]
     },
     "execution_count": 25,
     "metadata": {},
     "output_type": "execute_result"
    }
   ],
   "source": [
    "x='Phoenix, AZ  85013'\n",
    "postal_code = re.match(\".*[0-9]{5}.*\", x)\n",
    "postal_code"
   ]
  }
 ],
 "metadata": {
  "kernelspec": {
   "display_name": "Python 3 (ipykernel)",
   "language": "python",
   "name": "python3"
  },
  "language_info": {
   "codemirror_mode": {
    "name": "ipython",
    "version": 3
   },
   "file_extension": ".py",
   "mimetype": "text/x-python",
   "name": "python",
   "nbconvert_exporter": "python",
   "pygments_lexer": "ipython3",
   "version": "3.9.6"
  }
 },
 "nbformat": 4,
 "nbformat_minor": 5
}
