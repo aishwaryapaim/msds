{
 "cells": [
  {
   "cell_type": "code",
   "execution_count": 13,
   "id": "95df32e6",
   "metadata": {},
   "outputs": [],
   "source": [
    "from selenium import webdriver\n",
    "import time\n",
    "from selenium.webdriver.common.by import By\n",
    "from selenium.webdriver.chrome.service import Service\n",
    "from io import StringIO\n",
    "from selenium.webdriver.common.keys import Keys\n",
    "import pandas as pd\n",
    "from datetime import datetime\n",
    "import os\n",
    "import numpy as np\n",
    "import re\n",
    "import requests, PyPDF2\n",
    "from io import BytesIO\n",
    "import pyap\n"
   ]
  },
  {
   "cell_type": "code",
   "execution_count": 91,
   "id": "5cca51a9",
   "metadata": {},
   "outputs": [
    {
     "name": "stdout",
     "output_type": "stream",
     "text": [
      "1\n",
      "Randob Labs\n",
      "check for errors before reproduction. BLG should be notified of any\n",
      "[]\n",
      "28 West 36th Street, New York, NY 10018\n",
      "\n",
      "\n",
      "******END******\n",
      "2\n",
      "The Helman Group\n",
      "Product NameKegorator\n",
      "1. PRODUCT AND COMPANY IDENTIFICATION\n",
      "['811-97-2']\n",
      "1621 Beacon Place, Oxnard, CA, 93033\n",
      " Vapors are heavier than air and can cause suffocation by reducing oxygen available for breathingSupplier Address The Helman Group 1621 Beacon Place, Oxnard, CA, 93033\n",
      "\n",
      "******END******\n",
      "3\n",
      "Unilever\n",
      "Product Name BK-9406G  - G LITTER G EL\n",
      "Product identifier\n",
      "[]\n",
      " Supplier Address 80 Voice Road Carle Place New York 11514\n",
      "\n",
      "******END******\n",
      "4\n",
      "PLP Archived\n",
      "[]\n",
      "\n",
      "\n",
      "******END******\n",
      "5\n",
      "Xenna Corporation\n",
      "NonyX Nail Gel\n",
      "1.  PRODUCT AND COMPANY IDENTIFICATION\n",
      "['7732-18-5', '64-19-7', '11138-66-2', '68917-75-9']\n",
      " Supplier Address Xenna Corporation 33 Witherspoon St. Suite 200, Princeton, NJ, 08542\n",
      "\n",
      "******END******\n",
      "6\n",
      "Bausch & Lomb Americas Inc\n",
      "•\n",
      "Product identifier\n",
      "['10043-35-3', '233-139-2', '1303-96-4', '6381-92-6', '3794-83-0', '223-267-7', '11111-34-5', '7647-14-5', '231-598-3', '27083-27-8', '7732-18-5', '231-791-2', '7647-01-0', '231-595-7', '1310-73-2', '215-185-5']\n",
      "\n",
      " Bausch & Lomb 1400 North Goodman Street Rochester, NY 14609\n",
      "******END******\n",
      "7\n",
      "Wellmark International\n",
      "Zodiac® Spot On Flea & Tick Control for Large Dogs\n",
      "1. CHEMICAL  PRODUCT  INFORMATION\n",
      "['1-800-950', '1-800-424', '65733-16-6', '52645-53-1']\n",
      " Address: 1501 E. Woodfield Rd., Suite 200-West, Schaumburg, IL 60173\n",
      "\n",
      "******END******\n",
      "8\n",
      "SOPUS Products\n",
      "SECTION 1  PRODUCT AND COMPANY  IDENTIFICATION\n",
      "['68649-42-3']\n",
      "\n",
      " SOPUS Products Spill Information:    (877) 242-7400 P.O. Box 4427 Health Information: (877) 504-9351 Houston, TX.  77210-4427 MSDS Assistance Number: (877) 276-7285\n",
      "******END******\n",
      "9\n",
      "Orange Glo International\n",
      "Product Name/ Trade Name:\n",
      "CHEMICAL PRODUCT AND COMPANY IDENTIFICATION\n",
      "['303-740-1909', '1-800-222', '800-424-9300', '15630-89-4', '497-19-8']\n",
      "\n",
      " Orange Glo International PO Box 3998 Littleton, CO 80110 USA\n",
      "******END******\n",
      "10\n",
      "Orange Glo International\n",
      "Product Name/ Trade Name: OxiClean Laundry Stain Remover HMIS\n",
      "Page 1 of 5    OxiClean Active Stain Remover Section 1:  CHEMICAL PRODUCT AND COMPANY IDENTIFICATION\n",
      "['303-740-1909', '1-800-222', '800-424-9300', '7722-84-1']\n",
      "\n",
      " Supplier: Orange Glo International PO Box 3998 Littleton, CO 80110 USA\n",
      "******END******\n",
      "11\n",
      "Orange Glo International\n",
      "ProductnameOxiCleanSolidLaundryDeteregent\n",
      "['1-703-527', '1-800-424', '1-800-222', '1312-76-1', '10332-33-9', '1310-73-2']\n",
      "\n",
      " Manufacturer,importer,supplierOrangeGloInternational POBox3998 Littleton,CO,USA, 80110\n",
      "******END******\n",
      "12\n",
      "Wellmark International\n",
      "Zodiac® Spot On Flea & Tick Control for Medium Dogs 31-60 Lbs.\n",
      "1. CHEMICAL  PRODUCT  INFORMATION\n",
      "['1-800-950', '1-800-424', '65733-16-6', '52645-53-1']\n",
      " Address: 1501 E. Woodfield Rd., Suite 200-West, Schaumburg, IL 60173\n",
      "\n",
      "******END******\n",
      "13\n",
      "Wellmark International\n",
      "Zodiac® Spot On Flea & Tick Control for Small Dogs 16-30 lbs.\n",
      "1. CHEMICAL  PRODUCT  INFORMATION\n",
      "['1-800-950', '1-800-424', '65733-16-6', '52645-53-1']\n",
      " Address: 1501 E. Woodfield Rd., Suite 200-West, Schaumburg, IL 60173\n",
      "\n",
      "******END******\n",
      "14\n",
      "Blue Rhino\n",
      "CARCINOGENICITY: Propane is not listed by NTP, OSHA or IARC. Product Name: Odorized Commercial Propane\n",
      "CARCINOGENICITY: Propane is not listed by NTP, OSHA or IARC. Product Name: Odorized Commercial Propane\n",
      "['1-800-258', '1-800-566', '74-98-6', '74-84-0', '15-07-1', '75-08-1']\n",
      " Name & Address: Blue Rhino Corporation 104 Cambridge Plaza Drive Winston Salem, NC  27104\n",
      "\n",
      "******END******\n",
      "15\n",
      "Gillette\n",
      "Incompatible Materials  Hazardous Decomposition Products\n",
      "['7732-18-5', '57-10-3', '102-71-6', '78-78-4', '75-28-5', '57-11-4', '111-03-5', '74-98-6', '106-97-8']\n",
      "\n",
      " Gillette Environment Health and Safet y 37A Street Needham, MA  02492\n",
      "******END******\n",
      "16\n",
      "Pfizer Consumer Healthcare\n",
      "reproductive system effects This product contains ethanol which can cause liver changes,\n",
      "['38304-91-5253', '64-17-5200', '57-55-6200', '7732-18-5231', '1-212-573', '1-800-262']\n",
      "\n",
      " the ingredients (see Section 8). Pfizer Inc Pfizer Pharmaceuticals Group 235 East 42nd Street New York, New York 10017\n",
      "******END******\n",
      "17\n",
      "Farnam Companies, Inc.\n",
      "Product Name:ADAMS FLEA & TICK CONTROL DOGS\n",
      "1.  Product and Company Identification\n",
      "['52645-53-1', '95737-68-1', '5989-27-5']\n",
      "\n",
      " Company Name:Farnam Companies, Inc. 301 West Osborn Road Phoenix, AZ  85013\n",
      "******END******\n",
      "18\n",
      "list index out of range\n",
      "19\n",
      "Thermionics Corporation\n",
      "['217-529-4280', '62-534-4502', '14808-60-7', '1332-58-7', '0000057-55-6']\n",
      "\n",
      " Thermionics C  o  r  p  o  r  a  t  i  o  n Material Safety Data Sheet Part Number / Trade Name:   TC – 23(ThermiPaq) General Information … Company's Name:  Thermionics Corporation   Company's Emerg Ph #:  217-529-4280 Company's Street:  1214 Bunn Ave., Ste 5   Company's Info Ph #:  217-529-4280 Company's City:  Springfield     Date MSDS Prepared:  25APR03 Company's State:  IL      Safety Data Review Date:  25APR08 Company's Country:  USA     MSDS Serial Number:  TC002 Company's Name:  Thermionics Corporation   Company's Emerg Ph #:  217-529-4280 Company's Street:  1214 Bunn Ave., Ste 5   Company's Info Ph #:  217-529-4280 Company's City:  Springfield     Date MSDS Prepared:  25APR03 Company's State:  IL      Safety Data Review Date:  25APR08 Company's Country:  USA     MSDS Serial Number:  TC002 Company's Zip Code:   62703    Company’s DUNS Number:  62-534-4502\n",
      "******END******\n"
     ]
    }
   ],
   "source": [
    "# create webdriver object\n",
    "ser = Service(\"D:/Docs/chromedriver.exe\")\n",
    "op = webdriver.ChromeOptions()\n",
    "prefs = {\"download.default_directory\" : \"D:\\\\delete\\\\Cosmetic Ingridient Database\"}\n",
    "op.add_experimental_option(\"prefs\",prefs)\n",
    "driver = webdriver.Chrome(service=ser, options=op)\n",
    "driver.maximize_window()  \n",
    "driver.get(\"http://msds.walmartstores.com/\")\n",
    "time.sleep(10)\n",
    "driver.find_element(by=By.XPATH, value='//*[@id=\"submitUPC\"]').click()\n",
    "time.sleep(10)\n",
    "window_before = driver.window_handles[0]\n",
    "for o in range(1,20):\n",
    "    try:\n",
    "        force_break_loop = False\n",
    "        print(o)\n",
    "        driver.switch_to.window(window_before)\n",
    "        pdf = driver.find_element(by=By.XPATH, value='//*[@id=\"resultsDiv\"]/div/div['+str(o)+']/h2/span')\n",
    "        title = pdf.text\n",
    "        spt = title.split('(')[1].replace(')','')\n",
    "        print(spt)\n",
    "        pdf.click()\n",
    "        time.sleep(10)\n",
    "        original_window = driver.current_window_handle\n",
    "\n",
    "        for window_handle in driver.window_handles:\n",
    "            if window_handle != original_window:\n",
    "                driver.switch_to.window(window_handle)\n",
    "                break\n",
    "        url = driver.current_url\n",
    "\n",
    "        li = []\n",
    "        response = requests.get(url)\n",
    "        my_raw_data = response.content\n",
    "\n",
    "        with BytesIO(my_raw_data) as data:\n",
    "            read_pdf = PyPDF2.PdfFileReader(data,strict=False)\n",
    "\n",
    "            for page in range(read_pdf.getNumPages()):\n",
    "                text = read_pdf.getPage(page).extractText()\n",
    "                li.append(text)\n",
    "                \n",
    "                \n",
    "        r = li[0].split('\\n')\n",
    "        r = [s.strip() for s in r]\n",
    "        r = [i for i in r if i]\n",
    "        force_inner_break_loop = False\n",
    "        for i in range(len(r)):\n",
    "            test_str = r[i].lower()\n",
    "            res = re.sub(r'[^\\w\\s]', '', test_str)\n",
    "\n",
    "            if res == 'product name':\n",
    "                print(r[i+1])\n",
    "                break\n",
    "            if 'product name' in res:\n",
    "                print(r[i])\n",
    "                break\n",
    "\n",
    "        for i in range(len(r)):\n",
    "            test_str = r[i].lower()\n",
    "            res = re.sub(r'[^\\w\\s]', '', test_str)\n",
    "\n",
    "            if res == 'product':\n",
    "                print(r[i+1])\n",
    "                break\n",
    "            if 'product' in res:\n",
    "                print(r[i])\n",
    "                break\n",
    "\n",
    "\n",
    "\n",
    "        \n",
    "        \n",
    "        Register_number = []\n",
    "        for ii in range(len(li)):\n",
    "            string = li[ii]\n",
    "            if re.search(\"[0-9]+-[0-9]+-[0-9]+\", string) and  \"CAS\" in string:\n",
    "                    d = re.findall(\"[0-9]+-[0-9]+-[0-9]+\", string)\n",
    "                    Register_number.extend(d)\n",
    "        mylist = list(dict.fromkeys(Register_number))\n",
    "        print(mylist)\n",
    "\n",
    "        \n",
    "        a = li[0].replace(\"\\n\",\"****\")\n",
    "        test_address = a\n",
    "        addresses = pyap.parse(test_address, country='US')\n",
    "        for address in addresses:\n",
    "                # shows found address\n",
    "                print(address)\n",
    "\n",
    "\n",
    "        words = a.split(\"****\")\n",
    "        words = [s.strip() for s in words]\n",
    "        words = [i for i in words if i]\n",
    "        i=0\n",
    "        j=0\n",
    "        add=''\n",
    "\n",
    "        for i in range(len(words)):\n",
    "            test_str = words[i].lower()\n",
    "            res = re.sub(r'[^\\w\\s]', '', test_str)\n",
    "            if 'address' in res:\n",
    "                for j in range(i,i+10):\n",
    "                    postal_code = re.match(\".*[0-9]{5}.*\", words[j])\n",
    "                    postal_code1 = re.match(\".*[0-9]{6}.*\", words[j])\n",
    "                    #print(words[j])\n",
    "                    #add.append(words[j])\n",
    "                    add=\" \".join([add,words[j]])\n",
    "                    if postal_code or postal_code1:\n",
    "                        force_break_loop = True\n",
    "                        break\n",
    "\n",
    "            if force_break_loop:\n",
    "                break\n",
    "\n",
    "        print(add)\n",
    "\n",
    "\n",
    "\n",
    "\n",
    "        i=0\n",
    "        j=0\n",
    "        add=''\n",
    "        for i in range(len(words)):\n",
    "            test_str = words[i].lower()\n",
    "            res = re.sub(r'[^\\w\\s]', '', test_str)\n",
    "\n",
    "            if spt.split(\" \")[0].lower() in res:        \n",
    "\n",
    "                for j in range(i,i+10):\n",
    "                    postal_code = re.match(\".*[0-9]{5}.*\", words[j])\n",
    "                    postal_code1 = re.match(\".*[0-9]{6}.*\", words[j])\n",
    "\n",
    "                    #print(words[j])\n",
    "                    #add.append(words[j])\n",
    "                    add=\" \".join([add,words[j]])\n",
    "                    if postal_code or postal_code1:\n",
    "                        force_break_loop = True\n",
    "                        break\n",
    "            if force_break_loop:\n",
    "                break\n",
    "\n",
    "\n",
    "        print(add)\n",
    "        print(\"******END******\")\n",
    "        driver.close()\n",
    "    \n",
    "    except Exception as e:\n",
    "        print(e)\n",
    "        "
   ]
  },
  {
   "cell_type": "code",
   "execution_count": null,
   "id": "f026ca72",
   "metadata": {},
   "outputs": [],
   "source": [
    "v//*[@id=\"resultsDiv\"]/div/div[8]/h2/span"
   ]
  },
  {
   "cell_type": "code",
   "execution_count": null,
   "id": "8169d435",
   "metadata": {},
   "outputs": [],
   "source": []
  },
  {
   "cell_type": "code",
   "execution_count": null,
   "id": "b7c4de0d",
   "metadata": {},
   "outputs": [],
   "source": []
  },
  {
   "cell_type": "code",
   "execution_count": null,
   "id": "3dd0ed09",
   "metadata": {},
   "outputs": [],
   "source": []
  },
  {
   "cell_type": "code",
   "execution_count": null,
   "id": "0394fb1d",
   "metadata": {},
   "outputs": [],
   "source": []
  },
  {
   "cell_type": "code",
   "execution_count": null,
   "id": "c9836554",
   "metadata": {},
   "outputs": [],
   "source": []
  },
  {
   "cell_type": "code",
   "execution_count": null,
   "id": "f62c54d2",
   "metadata": {},
   "outputs": [],
   "source": [
    "//*[@id=\"resultsDiv\"]/div/div[16]/h2/span"
   ]
  },
  {
   "cell_type": "code",
   "execution_count": 61,
   "id": "046fc5bd",
   "metadata": {},
   "outputs": [
    {
     "name": "stdout",
     "output_type": "stream",
     "text": [
      "Unilever\n"
     ]
    }
   ],
   "source": [
    "ser = Service(\"D:/Docs/chromedriver.exe\")\n",
    "op = webdriver.ChromeOptions()\n",
    "prefs = {\"download.default_directory\" : \"D:\\\\delete\\\\Cosmetic Ingridient Database\"}\n",
    "op.add_experimental_option(\"prefs\",prefs)\n",
    "driver = webdriver.Chrome(service=ser, options=op)\n",
    "driver.maximize_window()  \n",
    "driver.get(\"http://msds.walmartstores.com/\")\n",
    "time.sleep(10)\n",
    "driver.find_element(by=By.XPATH, value='//*[@id=\"submitUPC\"]').click()\n",
    "time.sleep(10)\n",
    "window_before = driver.window_handles[0]\n",
    "driver.switch_to.window(window_before)\n",
    "pdf = driver.find_element(by=By.XPATH, value='//*[@id=\"resultsDiv\"]/div/div[3]/h2/span')\n",
    "title = pdf.text\n",
    "spt = title.split('(')[1].replace(')','')\n",
    "print(spt)\n",
    "pdf.click()\n",
    "time.sleep(10)\n",
    "original_window = driver.current_window_handle\n",
    "\n",
    "for window_handle in driver.window_handles:\n",
    "    if window_handle != original_window:\n",
    "        driver.switch_to.window(window_handle)\n",
    "        break\n",
    "url = driver.current_url"
   ]
  },
  {
   "cell_type": "code",
   "execution_count": 62,
   "id": "5fc01a4d",
   "metadata": {},
   "outputs": [
    {
     "data": {
      "text/plain": [
       "'http://msds.walmartstores.com/client/document?productid=1000533&productguid=b22f31bd-b22c-4318-a2ac-99c26f932707&DocumentKey=undefined&HazdocumentKey=undefined&MSDS=0&subformat=NAM'"
      ]
     },
     "execution_count": 62,
     "metadata": {},
     "output_type": "execute_result"
    }
   ],
   "source": [
    "url"
   ]
  },
  {
   "cell_type": "code",
   "execution_count": 63,
   "id": "700aa3ce",
   "metadata": {},
   "outputs": [
    {
     "name": "stdout",
     "output_type": "stream",
     "text": [
      "MSDS - Snuggle Liquid Fabric Softener Archived / (Unilever)\n"
     ]
    },
    {
     "data": {
      "text/plain": [
       "'Unilever'"
      ]
     },
     "execution_count": 63,
     "metadata": {},
     "output_type": "execute_result"
    }
   ],
   "source": [
    "print(title)\n",
    "spt = title.split('(')[1].replace(')','')\n",
    "spt"
   ]
  },
  {
   "cell_type": "code",
   "execution_count": 64,
   "id": "18c1a96b",
   "metadata": {},
   "outputs": [],
   "source": [
    "li = []\n",
    "response = requests.get(url)\n",
    "my_raw_data = response.content\n",
    "\n",
    "with BytesIO(my_raw_data) as data:\n",
    "    read_pdf = PyPDF2.PdfFileReader(data,strict=False)\n",
    "\n",
    "    for page in range(read_pdf.getNumPages()):\n",
    "        text = read_pdf.getPage(page).extractText()\n",
    "        li.append(text)"
   ]
  },
  {
   "cell_type": "code",
   "execution_count": null,
   "id": "1233d524",
   "metadata": {},
   "outputs": [],
   "source": [
    "b = li[0]\n",
    "b = b.replace(\"\\n\\n\\n\",\"\\n\")\n",
    "b"
   ]
  },
  {
   "cell_type": "code",
   "execution_count": 67,
   "id": "9a2f62fd",
   "metadata": {},
   "outputs": [
    {
     "data": {
      "text/plain": [
       "['_____________________________________________________________________________________________',\n",
       " '_____________________________________________________________________________________________ SAFETY DATA SHEET',\n",
       " 'Issuing Date  27-May-2011 Revision Date  18-Dec-2018 Revision Num ber  1',\n",
       " 'The supplier identified below generated this SDS using the UL SDS template. UL did not test, certify, or approve the substance described in this SDS, and',\n",
       " 'all information in this SDS was provided by the supplier or was reproduced from publically available regulatory data sources. UL makes no representations',\n",
       " 'or warranties regarding the completeness or accuracy of the information in this SDS and disclaims all liability in connection with the use of this information',\n",
       " 'or the substance described in this SDS. The layout, appearance and format of this SDS is © 2014 UL LLC. All rights reserved.',\n",
       " '2. HAZARDS IDENTIFICATION',\n",
       " 'Classification',\n",
       " 'This chem ical is considered hazardous by the 2012 O SHA Hazard Com m unication Standard (29 CFR 1910.1200).',\n",
       " 'Skin sensitization Category 1',\n",
       " 'G HS Label elem ents, including precautionary statem ents1. IDENTIFICATION OF THE SUBSTANCE/PREPARATION AND OF THE',\n",
       " 'COMPANY/UNDERTAKING',\n",
       " 'Product identifier',\n",
       " 'Product Name BK-9406G  - G LITTER G EL',\n",
       " 'O ther m eans of identification',\n",
       " 'Synonyms NONE',\n",
       " 'Recom m ended use of the chem ical and restrictions on use',\n",
       " 'Recom m ended Use Cosmetics',\n",
       " 'Uses advised against No inform ation available',\n",
       " 'Details of the supplier of the safety data sheet',\n",
       " 'Supplier Nam e Fun-W orld',\n",
       " 'Supplier Address 80 Voice Road',\n",
       " 'Carle Place',\n",
       " 'New York',\n",
       " '11514',\n",
       " 'US',\n",
       " 'Supplier Phone Num ber Phone:516.873.9000',\n",
       " 'Fax:516.873.9005',\n",
       " 'Supplier Em ail m ikege@ fun-world.net',\n",
       " 'Em ergency telephone num ber',\n",
       " 'Com pany Em ergency Phone',\n",
       " 'Number',\n",
       " '_____________________________________________________________________________________________',\n",
       " 'Page    1  /  11516.873.9010']"
      ]
     },
     "execution_count": 67,
     "metadata": {},
     "output_type": "execute_result"
    }
   ],
   "source": [
    "r = li[0].split('\\n')\n",
    "r = [s.strip() for s in r]\n",
    "r = [i for i in r if i]\n",
    "r"
   ]
  },
  {
   "cell_type": "code",
   "execution_count": 90,
   "id": "f4fd53a7",
   "metadata": {},
   "outputs": [
    {
     "name": "stdout",
     "output_type": "stream",
     "text": [
      "Product Name BK-9406G  - G LITTER G EL\n",
      "Product identifier\n"
     ]
    }
   ],
   "source": [
    "r = li[0].split('\\n')\n",
    "r = [s.strip() for s in r]\n",
    "r = [i for i in r if i]\n",
    "force_inner_break_loop = False\n",
    "for i in range(len(r)):\n",
    "    test_str = r[i].lower()\n",
    "    res = re.sub(r'[^\\w\\s]', '', test_str)\n",
    "    \n",
    "    if res == 'product name':\n",
    "        print(r[i+1])\n",
    "        break\n",
    "    if 'product name' in res:\n",
    "        print(r[i])\n",
    "        break\n",
    "\n",
    "for i in range(len(r)):\n",
    "    test_str = r[i].lower()\n",
    "    res = re.sub(r'[^\\w\\s]', '', test_str)\n",
    "    \n",
    "    if res == 'product':\n",
    "        print(r[i+1])\n",
    "        break\n",
    "    if 'product' in res:\n",
    "        print(r[i])\n",
    "        break\n",
    "    \n",
    "        "
   ]
  },
  {
   "cell_type": "code",
   "execution_count": 20,
   "id": "693054a1",
   "metadata": {},
   "outputs": [],
   "source": [
    "test_address = a\n",
    "addresses = pyap.parse(test_address, country='US')\n",
    "for address in addresses:\n",
    "        # shows found address\n",
    "        print(address)\n"
   ]
  },
  {
   "cell_type": "code",
   "execution_count": 21,
   "id": "71341718",
   "metadata": {},
   "outputs": [
    {
     "name": "stdout",
     "output_type": "stream",
     "text": [
      "\n"
     ]
    }
   ],
   "source": [
    "words = a.split(\"****\")\n",
    "words = [s.strip() for s in words]\n",
    "words = [i for i in words if i]\n",
    "add = ''\n",
    "import re\n",
    "for i in range(len(words)):\n",
    "    test_str = words[i].lower()\n",
    "    res = re.sub(r'[^\\w\\s]', '', test_str)\n",
    "    if 'address' in res:\n",
    "        for j in range(i,i+10):\n",
    "            postal_code = re.match(\".*[0-9]{5}.*\", words[j])\n",
    "            postal_code1 = re.match(\".*[0-9]{6}.*\", words[j])\n",
    "            #print(words[j])\n",
    "            #add.append(words[j])\n",
    "            add=\" \".join([add,words[j]])\n",
    "            if postal_code or postal_code1:\n",
    "                break\n",
    "print(add)"
   ]
  },
  {
   "cell_type": "code",
   "execution_count": 22,
   "id": "0991b366",
   "metadata": {},
   "outputs": [],
   "source": [
    "import re\n",
    "for i in range(len(words)):\n",
    "    test_str = words[i].lower()\n",
    "    res = re.sub(r'[^\\w\\s]', '', test_str)\n",
    "\n",
    "    if 'address' in res:        \n",
    "        print(words[i+1])"
   ]
  },
  {
   "cell_type": "code",
   "execution_count": null,
   "id": "2bf0a376",
   "metadata": {},
   "outputs": [],
   "source": [
    "words"
   ]
  },
  {
   "cell_type": "code",
   "execution_count": 43,
   "id": "385b1a9f",
   "metadata": {},
   "outputs": [
    {
     "name": "stdout",
     "output_type": "stream",
     "text": [
      " Thermionics C  o  r  p  o  r  a  t  i  o  n Material Safety Data Sheet Part Number / Trade Name:   TC – 23(ThermiPaq) General Information … Company's Name:  Thermionics Corporation   Company's Emerg Ph #:  217-529-4280 Company's Street:  1214 Bunn Ave., Ste 5   Company's Info Ph #:  217-529-4280 Company's City:  Springfield     Date MSDS Prepared:  25APR03 Company's State:  IL      Safety Data Review Date:  25APR08 Company's Country:  USA     MSDS Serial Number:  TC002 Company's Name:  Thermionics Corporation   Company's Emerg Ph #:  217-529-4280 Company's Street:  1214 Bunn Ave., Ste 5   Company's Info Ph #:  217-529-4280 Company's City:  Springfield     Date MSDS Prepared:  25APR03 Company's State:  IL      Safety Data Review Date:  25APR08 Company's Country:  USA     MSDS Serial Number:  TC002 Company's Zip Code:   62703    Company’s DUNS Number:  62-534-4502\n"
     ]
    }
   ],
   "source": [
    "import re\n",
    "add = ''\n",
    "for i in range(len(words)):\n",
    "    test_str = words[i].lower()\n",
    "    res = re.sub(r'[^\\w\\s]', '', test_str)\n",
    "\n",
    "    if spt.split(\" \")[0].lower() in res:        \n",
    "        for j in range(i,i+10):\n",
    "            postal_code = re.match(\".*[0-9]{5}.*\", words[j])\n",
    "            postal_code1 = re.match(\".*[0-9]{6}.*\", words[j])\n",
    "            #print(words[j])\n",
    "            #add.append(words[j])\n",
    "            add=\" \".join([add,words[j]])\n",
    "            if postal_code or postal_code1:\n",
    "                break\n",
    "        \n",
    "                \n",
    "            \n",
    "print(add)"
   ]
  },
  {
   "cell_type": "code",
   "execution_count": null,
   "id": "3eeb996d",
   "metadata": {},
   "outputs": [],
   "source": [
    "spt.split(\" \")[0].lower()"
   ]
  },
  {
   "cell_type": "code",
   "execution_count": 25,
   "id": "bd6fbd61",
   "metadata": {},
   "outputs": [
    {
     "data": {
      "text/plain": [
       "<re.Match object; span=(0, 18), match='Phoenix, AZ  85013'>"
      ]
     },
     "execution_count": 25,
     "metadata": {},
     "output_type": "execute_result"
    }
   ],
   "source": [
    "x='Phoenix, AZ  85013'\n",
    "postal_code = re.match(\".*[0-9]{5}.*\", x)\n",
    "postal_code"
   ]
  }
 ],
 "metadata": {
  "kernelspec": {
   "display_name": "Python 3 (ipykernel)",
   "language": "python",
   "name": "python3"
  },
  "language_info": {
   "codemirror_mode": {
    "name": "ipython",
    "version": 3
   },
   "file_extension": ".py",
   "mimetype": "text/x-python",
   "name": "python",
   "nbconvert_exporter": "python",
   "pygments_lexer": "ipython3",
   "version": "3.9.6"
  }
 },
 "nbformat": 4,
 "nbformat_minor": 5
}
