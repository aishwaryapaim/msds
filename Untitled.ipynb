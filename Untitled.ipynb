{
 "cells": [
  {
   "cell_type": "code",
   "execution_count": 1,
   "id": "45479d39",
   "metadata": {},
   "outputs": [],
   "source": [
    "from selenium import webdriver\n",
    "import time\n",
    "from selenium.webdriver.common.by import By\n",
    "from selenium.webdriver.chrome.service import Service\n",
    "from io import StringIO\n",
    "from selenium.webdriver.common.keys import Keys\n",
    "import pandas as pd\n",
    "from datetime import datetime\n",
    "import os\n",
    "import numpy as np\n",
    "import re\n",
    "import requests, PyPDF2\n",
    "from io import BytesIO\n",
    "import pyap\n"
   ]
  },
  {
   "cell_type": "code",
   "execution_count": null,
   "id": "3e1b101c",
   "metadata": {},
   "outputs": [
    {
     "name": "stdout",
     "output_type": "stream",
     "text": [
      "Randob Labs\n",
      "28 West 36th Street, New York, NY 10018\n",
      "\n",
      "\n",
      "******END******\n",
      "The Helman Group\n",
      "1621 Beacon Place, Oxnard, CA, 93033\n",
      " Vapors are heavier than air and can cause suffocation by reducing oxygen available for breathingSupplier Address The Helman Group 1621 Beacon Place, Oxnard, CA, 93033\n",
      " The Helman Group 1621 Beacon Place, Oxnard, CA, 93033\n",
      "******END******\n",
      "Unilever\n",
      " Supplier Address 80 Voice Road Carle Place New York 11514\n",
      "\n",
      "******END******\n",
      "PLP Archived\n",
      "\n",
      "\n",
      "******END******\n",
      "Xenna Corporation\n"
     ]
    },
    {
     "name": "stderr",
     "output_type": "stream",
     "text": [
      "d:\\python3.9\\lib\\site-packages\\PyPDF2\\_reader.py:1317: PdfReadWarning: Xref table not zero-indexed. ID numbers for objects will be corrected.\n",
      "  warnings.warn(\n"
     ]
    },
    {
     "name": "stdout",
     "output_type": "stream",
     "text": [
      " Supplier Address Xenna Corporation 33 Witherspoon St. Suite 200, Princeton, NJ, 08542\n",
      " Xenna Corporation 33 Witherspoon St. Suite 200, Princeton, NJ, 08542\n",
      "******END******\n",
      "Bausch & Lomb Americas Inc\n",
      "\n",
      " Bausch & Lomb 1400 North Goodman Street Rochester, NY 14609 bausch.com Telephone (General) • 1-800-553-5340 Emergency telephone number Manufacturer • 1-800-535-5053 - Infotrac Manufacturer •\n",
      "******END******\n",
      "Wellmark International\n",
      " Address: 1501 E. Woodfield Rd., Suite 200-West, Schaumburg, IL 60173\n",
      " Wellmark International Address: 1501 E. Woodfield Rd., Suite 200-West, Schaumburg, IL 60173\n",
      "******END******\n",
      "SOPUS Products\n",
      "\n",
      " SOPUS Products Spill Information:    (877) 242-7400 P.O. Box 4427 Health Information: (877) 504-9351 Houston, TX.  77210-4427 MSDS Assistance Number: (877) 276-7285\n",
      "******END******\n",
      "Orange Glo International\n",
      "\n",
      " Orange Glo International PO Box 3998 Littleton, CO 80110 USA\n",
      "******END******\n",
      "Orange Glo International\n",
      "\n",
      " Supplier: Orange Glo International PO Box 3998 Littleton, CO 80110 USA\n",
      "******END******\n",
      "Orange Glo International\n",
      "\n",
      " Manufacturer,importer,supplierOrangeGloInternational POBox3998 Littleton,CO,USA, 80110\n",
      "******END******\n",
      "Wellmark International\n",
      " Address: 1501 E. Woodfield Rd., Suite 200-West, Schaumburg, IL 60173\n",
      " Wellmark International Address: 1501 E. Woodfield Rd., Suite 200-West, Schaumburg, IL 60173\n",
      "******END******\n",
      "Wellmark International\n"
     ]
    }
   ],
   "source": [
    "# create webdriver object\n",
    "ser = Service(\"D:/Docs/chromedriver.exe\")\n",
    "op = webdriver.ChromeOptions()\n",
    "prefs = {\"download.default_directory\" : \"D:\\\\delete\\\\Cosmetic Ingridient Database\"}\n",
    "op.add_experimental_option(\"prefs\",prefs)\n",
    "driver = webdriver.Chrome(service=ser, options=op)\n",
    "driver.maximize_window()  \n",
    "driver.get(\"http://msds.walmartstores.com/\")\n",
    "time.sleep(10)\n",
    "driver.find_element(by=By.XPATH, value='//*[@id=\"submitUPC\"]').click()\n",
    "time.sleep(10)\n",
    "window_before = driver.window_handles[0]\n",
    "for o in range(1,20):\n",
    "    print(i)\n",
    "    driver.switch_to.window(window_before)\n",
    "    pdf = driver.find_element(by=By.XPATH, value='//*[@id=\"resultsDiv\"]/div/div['+str(o)+']/h2/span')\n",
    "    title = pdf.text\n",
    "    spt = title.split('(')[1].replace(')','')\n",
    "    print(spt)\n",
    "    pdf.click()\n",
    "    time.sleep(10)\n",
    "    original_window = driver.current_window_handle\n",
    "\n",
    "    for window_handle in driver.window_handles:\n",
    "        if window_handle != original_window:\n",
    "            driver.switch_to.window(window_handle)\n",
    "            break\n",
    "    url = driver.current_url\n",
    "    \n",
    "    li = []\n",
    "    response = requests.get(url)\n",
    "    my_raw_data = response.content\n",
    "\n",
    "    with BytesIO(my_raw_data) as data:\n",
    "        read_pdf = PyPDF2.PdfFileReader(data)\n",
    "\n",
    "        for page in range(read_pdf.getNumPages()):\n",
    "            text = read_pdf.getPage(page).extractText()\n",
    "            li.append(text)\n",
    "    a = li[0].replace(\"\\n\",\"****\")\n",
    "    test_address = a\n",
    "    addresses = pyap.parse(test_address, country='US')\n",
    "    for address in addresses:\n",
    "            # shows found address\n",
    "            print(address)\n",
    "            \n",
    "            \n",
    "    words = a.split(\"****\")\n",
    "    words = [s.strip() for s in words]\n",
    "    words = [i for i in words if i]\n",
    "    i=0\n",
    "    j=0\n",
    "    add=''\n",
    "    \n",
    "    for i in range(len(words)):\n",
    "        test_str = words[i].lower()\n",
    "        res = re.sub(r'[^\\w\\s]', '', test_str)\n",
    "        if 'address' in res:\n",
    "            for j in range(i,i+10):\n",
    "                postal_code = re.match(\".*[0-9]{5}.*\", words[j])\n",
    "                postal_code1 = re.match(\".*[0-9]{6}.*\", words[j])\n",
    "                #print(words[j])\n",
    "                #add.append(words[j])\n",
    "                add=\" \".join([add,words[j]])\n",
    "                if postal_code or postal_code1:\n",
    "                    break\n",
    "    print(add)\n",
    "    \n",
    "    \n",
    "    \n",
    "    \n",
    "    i=0\n",
    "    j=0\n",
    "    add=''\n",
    "    for i in range(len(words)):\n",
    "        test_str = words[i].lower()\n",
    "        res = re.sub(r'[^\\w\\s]', '', test_str)\n",
    "\n",
    "        if spt.split(\" \")[0].lower() in res:        \n",
    "\n",
    "            for j in range(i,i+10):\n",
    "                postal_code = re.match(\".*[0-9]{5}.*\", words[j])\n",
    "                postal_code1 = re.match(\".*[0-9]{6}.*\", words[j])\n",
    "\n",
    "                #print(words[j])\n",
    "                #add.append(words[j])\n",
    "                add=\" \".join([add,words[j]])\n",
    "                if postal_code or postal_code1:\n",
    "                    break\n",
    "\n",
    "\n",
    "    print(add)\n",
    "    print(\"******END******\")\n",
    "    driver.close()"
   ]
  },
  {
   "cell_type": "code",
   "execution_count": null,
   "id": "d81331fe",
   "metadata": {},
   "outputs": [],
   "source": []
  },
  {
   "cell_type": "code",
   "execution_count": null,
   "id": "8f81972b",
   "metadata": {},
   "outputs": [],
   "source": []
  },
  {
   "cell_type": "code",
   "execution_count": null,
   "id": "155405df",
   "metadata": {},
   "outputs": [],
   "source": []
  },
  {
   "cell_type": "code",
   "execution_count": null,
   "id": "bf66a64f",
   "metadata": {},
   "outputs": [],
   "source": []
  },
  {
   "cell_type": "code",
   "execution_count": null,
   "id": "e1e45a7a",
   "metadata": {},
   "outputs": [],
   "source": []
  },
  {
   "cell_type": "code",
   "execution_count": null,
   "id": "3b42a1cb",
   "metadata": {},
   "outputs": [],
   "source": []
  },
  {
   "cell_type": "code",
   "execution_count": null,
   "id": "63e21c81",
   "metadata": {},
   "outputs": [],
   "source": []
  },
  {
   "cell_type": "code",
   "execution_count": null,
   "id": "7f4fee4d",
   "metadata": {},
   "outputs": [],
   "source": [
    "//*[@id=\"resultsDiv\"]/div/div[9]/h2/span"
   ]
  },
  {
   "cell_type": "code",
   "execution_count": null,
   "id": "767f5cad",
   "metadata": {},
   "outputs": [],
   "source": [
    "ser = Service(\"D:/Docs/chromedriver.exe\")\n",
    "op = webdriver.ChromeOptions()\n",
    "prefs = {\"download.default_directory\" : \"D:\\\\delete\\\\Cosmetic Ingridient Database\"}\n",
    "op.add_experimental_option(\"prefs\",prefs)\n",
    "driver = webdriver.Chrome(service=ser, options=op)\n",
    "driver.maximize_window()  \n",
    "driver.get(\"http://msds.walmartstores.com/\")\n",
    "time.sleep(10)\n",
    "driver.find_element(by=By.XPATH, value='//*[@id=\"submitUPC\"]').click()\n",
    "time.sleep(10)\n",
    "window_before = driver.window_handles[0]\n",
    "driver.switch_to.window(window_before)\n",
    "pdf = driver.find_element(by=By.XPATH, value='//*[@id=\"resultsDiv\"]/div/div[3]/h2/span')\n",
    "title = pdf.text\n",
    "spt = title.split('(')[1].replace(')','')\n",
    "print(spt)\n",
    "pdf.click()\n",
    "time.sleep(10)\n",
    "original_window = driver.current_window_handle\n",
    "\n",
    "for window_handle in driver.window_handles:\n",
    "    if window_handle != original_window:\n",
    "        driver.switch_to.window(window_handle)\n",
    "        break\n",
    "url = driver.current_url"
   ]
  },
  {
   "cell_type": "code",
   "execution_count": null,
   "id": "82619b71",
   "metadata": {},
   "outputs": [],
   "source": []
  },
  {
   "cell_type": "code",
   "execution_count": null,
   "id": "154913dd",
   "metadata": {},
   "outputs": [],
   "source": [
    "print(title)\n",
    "spt = title.split('(')[1].replace(')','')\n",
    "spt"
   ]
  },
  {
   "cell_type": "code",
   "execution_count": null,
   "id": "3cd46534",
   "metadata": {},
   "outputs": [],
   "source": [
    "import requests, PyPDF2\n",
    "from io import BytesIO\n",
    "li = []\n",
    "response = requests.get(url)\n",
    "my_raw_data = response.content\n",
    "\n",
    "with BytesIO(my_raw_data) as data:\n",
    "    read_pdf = PyPDF2.PdfFileReader(data)\n",
    "\n",
    "    for page in range(read_pdf.getNumPages()):\n",
    "        text = read_pdf.getPage(page).extractText()\n",
    "        li.append(text)"
   ]
  },
  {
   "cell_type": "code",
   "execution_count": null,
   "id": "baa892ee",
   "metadata": {},
   "outputs": [],
   "source": [
    "b = li[0]\n",
    "b = b.replace(\"\\n\\n\\n\",\"\\n\")\n",
    "b"
   ]
  },
  {
   "cell_type": "code",
   "execution_count": null,
   "id": "2c576c30",
   "metadata": {},
   "outputs": [],
   "source": [
    "a = li[0].replace(\"\\n\",\"****\")"
   ]
  },
  {
   "cell_type": "code",
   "execution_count": null,
   "id": "57a3c736",
   "metadata": {},
   "outputs": [],
   "source": [
    "import pyap\n",
    "test_address = a\n",
    "addresses = pyap.parse(test_address, country='US')\n",
    "for address in addresses:\n",
    "        # shows found address\n",
    "        print(address)\n"
   ]
  },
  {
   "cell_type": "code",
   "execution_count": null,
   "id": "6a260258",
   "metadata": {},
   "outputs": [],
   "source": [
    "words = a.split(\"****\")\n",
    "words = [s.strip() for s in words]\n",
    "words = [i for i in words if i]\n",
    "add = ''\n",
    "import re\n",
    "for i in range(len(words)):\n",
    "    test_str = words[i].lower()\n",
    "    res = re.sub(r'[^\\w\\s]', '', test_str)\n",
    "    if 'address' in res:\n",
    "        for j in range(i,i+10):\n",
    "            postal_code = re.match(\".*[0-9]{5}.*\", words[j])\n",
    "            postal_code1 = re.match(\".*[0-9]{6}.*\", words[j])\n",
    "            #print(words[j])\n",
    "            #add.append(words[j])\n",
    "            add=\" \".join([add,words[j]])\n",
    "            if postal_code or postal_code1:\n",
    "                break\n",
    "print(add)"
   ]
  },
  {
   "cell_type": "code",
   "execution_count": null,
   "id": "e3e0c623",
   "metadata": {},
   "outputs": [],
   "source": [
    "import re\n",
    "for i in range(len(words)):\n",
    "    test_str = words[i].lower()\n",
    "    res = re.sub(r'[^\\w\\s]', '', test_str)\n",
    "\n",
    "    if 'address' in res:        \n",
    "        print(words[i+1])"
   ]
  },
  {
   "cell_type": "code",
   "execution_count": null,
   "id": "36e9bf5c",
   "metadata": {},
   "outputs": [],
   "source": [
    "words"
   ]
  },
  {
   "cell_type": "code",
   "execution_count": null,
   "id": "51589b32",
   "metadata": {},
   "outputs": [],
   "source": [
    "import re\n",
    "add = ''\n",
    "for i in range(len(words)):\n",
    "    test_str = words[i].lower()\n",
    "    res = re.sub(r'[^\\w\\s]', '', test_str)\n",
    "\n",
    "    if spt.split(\" \")[0].lower() in res:        \n",
    "        for j in range(i,i+10):\n",
    "            postal_code = re.match(\".*[0-9]{5}.*\", words[j])\n",
    "            postal_code1 = re.match(\".*[0-9]{6}.*\", words[j])\n",
    "            #print(words[j])\n",
    "            #add.append(words[j])\n",
    "            add=\" \".join([add,words[j]])\n",
    "            if postal_code or postal_code1:\n",
    "                break\n",
    "                \n",
    "            \n",
    "print(add)"
   ]
  },
  {
   "cell_type": "code",
   "execution_count": null,
   "id": "e02aa7b9",
   "metadata": {},
   "outputs": [],
   "source": [
    "spt.split(\" \")[0].lower()"
   ]
  },
  {
   "cell_type": "code",
   "execution_count": null,
   "id": "682e593a",
   "metadata": {},
   "outputs": [],
   "source": [
    "x='Littleton, CO USA'\n",
    "postal_code = re.match(\".*[0-9]{5}.*\", x)\n",
    "postal_code.string"
   ]
  }
 ],
 "metadata": {
  "kernelspec": {
   "display_name": "Python 3 (ipykernel)",
   "language": "python",
   "name": "python3"
  },
  "language_info": {
   "codemirror_mode": {
    "name": "ipython",
    "version": 3
   },
   "file_extension": ".py",
   "mimetype": "text/x-python",
   "name": "python",
   "nbconvert_exporter": "python",
   "pygments_lexer": "ipython3",
   "version": "3.9.6"
  }
 },
 "nbformat": 4,
 "nbformat_minor": 5
}
